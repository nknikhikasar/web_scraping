{
 "cells": [
  {
   "cell_type": "code",
   "execution_count": 193,
   "metadata": {},
   "outputs": [],
   "source": [
    "import requests\n",
    "from bs4 import BeautifulSoup"
   ]
  },
  {
   "cell_type": "code",
   "execution_count": 194,
   "metadata": {},
   "outputs": [],
   "source": [
    "r = requests.get('https://timesofindia.indiatimes.com/news')"
   ]
  },
  {
   "cell_type": "code",
   "execution_count": 195,
   "metadata": {},
   "outputs": [],
   "source": [
    "soup = BeautifulSoup(r.text,'html.parser')"
   ]
  },
  {
   "cell_type": "markdown",
   "metadata": {},
   "source": [
    "latest_news = [\n",
    "{\"title\" : text,\n",
    "\"disc\" : desc,\n",
    "\"news_link\" : link}\n",
    "] "
   ]
  },
  {
   "cell_type": "code",
   "execution_count": 196,
   "metadata": {},
   "outputs": [],
   "source": [
    "s = soup.find_all('a',{\"class\" : \"w_img\"})"
   ]
  },
  {
   "cell_type": "code",
   "execution_count": 205,
   "metadata": {},
   "outputs": [
    {
     "data": {
      "text/plain": [
       "[<a class=\"w_img\" href=\"/entertainment/hindi/bollywood/news/highlights-of-rhea-chakrabortys-bail-order/photostory/78534006.cms\" pg=\"-entertainment/hindi/bollywood/news#Photo_View-1-geturl\" title=\"Highlights of Rhea Chakraborty’s bail order\"><img alt=\"Highlights of Rhea Chakraborty’s bail order\" data-src=\"https://static.toiimg.com/photo/78534006.cms\" pg=\"-entertainment/hindi/bollywood/news#Photo_View-1-geturl\" src=\"https://static.toiimg.com/photo/34824568.cms\"/></a>,\n",
       " <a class=\"w_img\" href=\"/entertainment/hindi/bollywood/news/payal-ghosh-to-tender-apology-and-withdraw-statement-against-richa-chadha/articleshow/78533878.cms\" pg=\"-entertainment/hindi/bollywood/news#Story_View-2-geturl\" title=\"Payal to withdraw statement against Richa\"><img alt=\"Payal to withdraw statement against Richa\" data-src=\"https://static.toiimg.com/thumb/imgsize-739700,msid-78533900,width-150,resizemode-4/78533900.jpg\" pg=\"-entertainment/hindi/bollywood/news#Story_View-2-geturl\" src=\"https://static.toiimg.com/photo/34824568.cms\"/></a>,\n",
       " <a class=\"w_img\" href=\"/entertainment/hindi/bollywood/news/neeraj-kabi-exclusive-how-i-made-it/articleshow/78527260.cms\" pg=\"-entertainment/hindi/bollywood/news#Story_View-3-geturl\" title=\"Neeraj Kabi: Still fighting for remuneration\"><img alt=\"Neeraj Kabi: Still fighting for remuneration\" data-src=\"https://static.toiimg.com/thumb/imgsize-119683,msid-78530010,width-150,resizemode-4/78530010.jpg\" pg=\"-entertainment/hindi/bollywood/news#Story_View-3-geturl\" src=\"https://static.toiimg.com/photo/34824568.cms\"/></a>,\n",
       " <a class=\"w_img\" href=\"/entertainment/hindi/bollywood/news/9-conditions-pronounced-for-rhea-chakraborty-by-the-high-court-while-granting-her-bail-in-drugs-case/articleshow/78532432.cms\" pg=\"-entertainment/hindi/bollywood/news#Story_View-4-geturl\" title=\"9 conditions pronounced for Rhea by the HC\"><img alt=\"9 conditions pronounced for Rhea by the HC\" data-src=\"https://static.toiimg.com/thumb/imgsize-507958,msid-78532442,width-150,resizemode-4/78532442.jpg\" pg=\"-entertainment/hindi/bollywood/news#Story_View-4-geturl\" src=\"https://static.toiimg.com/photo/34824568.cms\"/></a>,\n",
       " <a class=\"w_img\" href=\"/entertainment/hindi/bollywood/news/swara-bhasker-takes-an-indirect-dig-at-kangana-ranauts-padma-shri-statement-after-aiims-rules-out-murder-in-sushant-singh-rajputs-case/articleshow/78531976.cms\" pg=\"-entertainment/hindi/bollywood/news#Story_View-5-geturl\" title=\"Swara takes an indirect dig at Kangana\"><img alt=\"Swara takes an indirect dig at Kangana\" data-src=\"https://static.toiimg.com/thumb/imgsize-996422,msid-78531952,width-150,resizemode-4/78531952.jpg\" pg=\"-entertainment/hindi/bollywood/news#Story_View-5-geturl\" src=\"https://static.toiimg.com/photo/34824568.cms\"/></a>,\n",
       " <a class=\"w_img\" href=\"/business/india-business/at-41-million-real-time-transactions-a-day-india-leads-the-world-report/articleshow/78534784.cms\" pg=\"-business/india-business#Story_View-1-geturl\" title=\"At 41 million real-time transactions a day, India leads the world: Report\"><img alt=\"At 41 million real-time transactions a day, India leads the world: Report\" data-src=\"https://static.toiimg.com/thumb/imgsize-404212,msid-78534763,width-150,resizemode-4/78534763.jpg\" pg=\"-business/india-business#Story_View-1-geturl\" src=\"https://static.toiimg.com/photo/34824568.cms\"/></a>,\n",
       " <a class=\"w_img\" href=\"/business/india-business/states-market-borrowings-jump-55-to-rs-3-75-lakh-crore-so-far-this-fiscal/articleshow/78534277.cms\" pg=\"-business/india-business#Story_View-2-geturl\" title=\"States' mkt borrowings jump 55% to Rs 3.75 lakh crore\"><img alt=\"States' mkt borrowings jump 55% to Rs 3.75 lakh crore\" data-src=\"https://static.toiimg.com/thumb/imgsize-50814,msid-78534262,width-150,resizemode-4/78534262.jpg\" pg=\"-business/india-business#Story_View-2-geturl\" src=\"https://static.toiimg.com/photo/34824568.cms\"/></a>,\n",
       " <a class=\"w_img\" href=\"/business/india-business/sensex-rallies-304-points-nifty-ends-above-11700/articleshow/78532545.cms\" pg=\"-business/india-business#Story_View-3-geturl\" title=\"Sensex rallies 304 points; Nifty ends above 11,700\"><img alt=\"Sensex rallies 304 points; Nifty ends above 11,700\" data-src=\"https://static.toiimg.com/thumb/imgsize-88430,msid-78533266,width-150,resizemode-4/78533266.jpg\" pg=\"-business/india-business#Story_View-3-geturl\" src=\"https://static.toiimg.com/photo/34824568.cms\"/></a>,\n",
       " <a class=\"w_img\" href=\"/business/india-business/banks-say-governments-interest-waiver-will-add-to-costs-spark-litigation/articleshow/78530227.cms\" pg=\"-business/india-business#Story_View-4-geturl\" title=\"Banks say interest waiver will add to costs, spark litigation\"><img alt=\"Banks say interest waiver will add to costs, spark litigation\" data-src=\"https://static.toiimg.com/thumb/imgsize-81416,msid-78533608,width-150,resizemode-4/78533608.jpg\" pg=\"-business/india-business#Story_View-4-geturl\" src=\"https://static.toiimg.com/photo/34824568.cms\"/><i class=\"iconvideo\"></i></a>,\n",
       " <a class=\"w_img\" href=\"/business/international-business/h-1b-visas-should-be-reserved-only-for-specialised-talent-to-support-strong-economy-white-house/articleshow/78531537.cms\" pg=\"-business/international-business#Story_View-5-geturl\" title=\"H-1B visas only for 'specialised talent': White House\"><img alt=\"H-1B visas only for 'specialised talent': White House\" data-src=\"https://static.toiimg.com/thumb/imgsize-128807,msid-78531584,width-150,resizemode-4/78531584.jpg\" pg=\"-business/international-business#Story_View-5-geturl\" src=\"https://static.toiimg.com/photo/34824568.cms\"/></a>,\n",
       " <a class=\"w_img\" href=\"/tv/news/hindi/new-bride-niti-taylor-shares-a-throwback-video-from-her-mehendi-ceremony-watch/articleshow/78534122.cms\" pg=\"-tv/news/hindi#Story_View-1-geturl\" title=\"Watch Niti Taylor's Mehendi ceremony\"><img alt=\"Watch Niti Taylor's Mehendi ceremony\" data-src=\"https://static.toiimg.com/thumb/imgsize-155909,msid-78534276,width-150,resizemode-4/78534276.jpg\" pg=\"-tv/news/hindi#Story_View-1-geturl\" src=\"https://static.toiimg.com/photo/34824568.cms\"/></a>,\n",
       " <a class=\"w_img\" href=\"/tv/news/hindi/mukesh-khanna-hits-out-at-yudhishtir-gajendra-chauhan-asks-how-can-you-compare-mahabharat-to-the-kapil-sharma-show/articleshow/78534253.cms\" pg=\"-tv/news/hindi#Story_View-2-geturl\" title=\"Mukesh Khanna lashes out at Gajendra Chauhan\"><img alt=\"Mukesh Khanna lashes out at Gajendra Chauhan\" data-src=\"https://static.toiimg.com/thumb/imgsize-161563,msid-78534307,width-150,resizemode-4/78534307.jpg\" pg=\"-tv/news/hindi#Story_View-2-geturl\" src=\"https://static.toiimg.com/photo/34824568.cms\"/></a>,\n",
       " <a class=\"w_img\" href=\"/tv/news/hindi/did-you-know-neha-kakars-rumoured-fiance-rohanpreet-singh-was-shehnaz-gills-suitor-in-mujhse-shaadi-karoge/articleshow/78532624.cms\" pg=\"-tv/news/hindi#Story_View-3-geturl\" title=\"Was Rohanpreet Singh Shehnaz's suitor in MSK?\"><img alt=\"Was Rohanpreet Singh Shehnaz's suitor in MSK?\" data-src=\"https://static.toiimg.com/thumb/imgsize-565125,msid-78532712,width-150,resizemode-4/78532712.jpg\" pg=\"-tv/news/hindi#Story_View-3-geturl\" src=\"https://static.toiimg.com/photo/34824568.cms\"/></a>,\n",
       " <a class=\"w_img\" href=\"/tv/news/hindi/bigg-boss-14-pavitra-punia-hits-nikki-tamboli-with-a-tray-after-she-ruins-her-game-during-immunity-task/articleshow/78532198.cms\" pg=\"-tv/news/hindi#Story_View-4-geturl\" title=\"BB14: Pavitra hits Nikki during immunity task\"><img alt=\"BB14: Pavitra hits Nikki during immunity task\" data-src=\"https://static.toiimg.com/thumb/imgsize-202653,msid-78532233,width-150,resizemode-4/78532233.jpg\" pg=\"-tv/news/hindi#Story_View-4-geturl\" src=\"https://static.toiimg.com/photo/34824568.cms\"/></a>,\n",
       " <a class=\"w_img\" href=\"/tv/news/hindi/bigg-boss-11s-sapna-chaudhary-blessed-with-a-baby-boy-husband-veer-sahu-abuses-those-judging-his-wifes-character/articleshow/78530131.cms\" pg=\"-tv/news/hindi#Story_View-5-geturl\" title=\"Sapna Chaudhary blessed with a baby boy\"><img alt=\"Sapna Chaudhary blessed with a baby boy\" data-src=\"https://static.toiimg.com/thumb/imgsize-811236,msid-78528626,width-150,resizemode-4/78528626.jpg\" pg=\"-tv/news/hindi#Story_View-5-geturl\" src=\"https://static.toiimg.com/photo/34824568.cms\"/><i class=\"iconvideo\"></i></a>,\n",
       " <a class=\"w_img\" href=\"/sports/cricket/ipl/top-stories/ipl-2020-kkr-need-to-rejig-batting-order-as-they-take-on-csk/articleshow/78526518.cms\" pg=\"-sports/cricket/ipl/top-stories#Story_View-1-geturl\" title=\"KKR need to rejig batting order as they face CSK\"><img alt=\"KKR need to rejig batting order as they face CSK\" data-src=\"https://static.toiimg.com/thumb/imgsize-72680,msid-78532632,width-150,resizemode-4/78532632.jpg\" pg=\"-sports/cricket/ipl/top-stories#Story_View-1-geturl\" src=\"https://static.toiimg.com/photo/34824568.cms\"/><i class=\"iconvideo\"></i></a>,\n",
       " <a class=\"w_img\" href=\"/sports/tennis/french-open/petra-kvitova-back-in-roland-garros-semi-finals-after-eight-years/articleshow/78534686.cms\" pg=\"-sports/tennis/french-open#Story_View-2-geturl\" title=\"Kvitova back in Roland Garros semis after 8 years\"><img alt=\"Kvitova back in Roland Garros semis after 8 years\" data-src=\"https://static.toiimg.com/thumb/imgsize-43572,msid-78534684,width-150,resizemode-4/78534684.jpg\" pg=\"-sports/tennis/french-open#Story_View-2-geturl\" src=\"https://static.toiimg.com/photo/34824568.cms\"/></a>,\n",
       " <a class=\"w_img\" href=\"/sports/cricket/ipl/top-stories/rahul-shouldnt-be-bothered-with-wicket-keeping-in-indian-team-feels-lara/articleshow/78532034.cms\" pg=\"-sports/cricket/ipl/top-stories#Story_View-3-geturl\" title=\"Rahul shouldn't be wicketkeeping in the Indian team: Lara\"><img alt=\"Rahul shouldn't be wicketkeeping in the Indian team: Lara\" data-src=\"https://static.toiimg.com/thumb/imgsize-60631,msid-78532964,width-150,resizemode-4/78532964.jpg\" pg=\"-sports/cricket/ipl/top-stories#Story_View-3-geturl\" src=\"https://static.toiimg.com/photo/34824568.cms\"/></a>,\n",
       " <a class=\"w_img\" href=\"/sports/cricket/ipl/top-stories/watch-hathiyaar-taiyaar-nitish-rana-saws-off-the-top-of-his-bat-handles-ahead-of-csk-clash/articleshow/78534489.cms\" pg=\"-sports/cricket/ipl/top-stories#Story_View-4-geturl\" title=\"Watch: Nitish saws off the top of his bat handles\"><img alt=\"Watch: Nitish saws off the top of his bat handles\" data-src=\"https://static.toiimg.com/thumb/imgsize-78575,msid-78534491,width-150,resizemode-4/78534491.jpg\" pg=\"-sports/cricket/ipl/top-stories#Story_View-4-geturl\" src=\"https://static.toiimg.com/photo/34824568.cms\"/></a>,\n",
       " <a class=\"w_img\" href=\"/sports/cricket/ipl/top-stories/ipl-2020-tendulkar-hails-bumrahs-exceptional-bowling-against-rajasthan-royals/articleshow/78533665.cms\" pg=\"-sports/cricket/ipl/top-stories#Story_View-5-geturl\" title=\"IPL: Tendulkar hails Bumrah's 'exceptional' bowling\"><img alt=\"IPL: Tendulkar hails Bumrah's 'exceptional' bowling\" data-src=\"https://static.toiimg.com/thumb/imgsize-135888,msid-78534843,width-150,resizemode-4/78534843.jpg\" pg=\"-sports/cricket/ipl/top-stories#Story_View-5-geturl\" src=\"https://static.toiimg.com/photo/34824568.cms\"/></a>,\n",
       " <a class=\"w_img\" href=\"/entertainment/hindi/bollywood/news/sushant-singh-rajput-case-live-updates-rhea-chakraborty-bail-plea-bollywood-drug-probe/liveblog/78527319.cms\" pg=\"-entertainment/hindi/bollywood/news#Story_View-1-geturl\" title=\"Live: Rhea leaves Byculla Jail after bail in drugs case\"><img alt=\"Live: Rhea leaves Byculla Jail after bail in drugs case\" data-src=\"https://static.toiimg.com/thumb/imgsize-40615,msid-78527319,width-141,resizemode-4/78527319.jpg\" pg=\"-entertainment/hindi/bollywood/news#Story_View-1-geturl\" src=\"https://static.toiimg.com/photo/34824568.cms\"/></a>,\n",
       " <a class=\"w_img\" href=\"/india/india-japan-finalise-pact-for-cooperation-in-5g-tech-ai-and-critical-information-infra/articleshow/78533793.cms\" pg=\"-india#Story_View-2-geturl\" title=\"India, Japan set to work on 5G tech amid global snub to China's Huawei\"><img alt=\"India, Japan set to work on 5G tech amid global snub to China's Huawei\" data-src=\"https://static.toiimg.com/thumb/imgsize-118124,msid-78534093,width-141,resizemode-4/78534093.jpg\" pg=\"-india#Story_View-2-geturl\" src=\"https://static.toiimg.com/photo/34824568.cms\"/></a>,\n",
       " <a class=\"w_img\" href=\"/home/science/where-are-we-in-the-covid-19-vaccine-race/articleshow/78533016.cms\" pg=\"-science#Story_View-3-geturl\" title=\"Where are we in the Covid-19 vaccine race?\"><img alt=\"Where are we in the Covid-19 vaccine race?\" data-src=\"https://static.toiimg.com/thumb/imgsize-110659,msid-78533201,width-141,resizemode-4/78533201.jpg\" pg=\"-science#Story_View-3-geturl\" src=\"https://static.toiimg.com/photo/34824568.cms\"/></a>,\n",
       " <a class=\"w_img\" href=\"/world/us/new-h-1b-rules-a-month-before-elections-trump-admin-does-a-surgical-strike-wage-parameters-hiked-and-visa-norms-tightened/articleshow/78530104.cms\" pg=\"-world/us#Story_View-4-geturl\" title=\"Trump does 'surgical strike' on H-1B visas\"><img alt=\"Trump does 'surgical strike' on H-1B visas\" data-src=\"https://static.toiimg.com/thumb/imgsize-58300,msid-78528198,width-141,resizemode-4/78528198.jpg\" pg=\"-world/us#Story_View-4-geturl\" src=\"https://static.toiimg.com/photo/34824568.cms\"/><i class=\"iconvideo\"></i></a>,\n",
       " <a class=\"w_img\" href=\"/india/nobel-prize-in-chemistry-awarded-to-emmanuelle-charpentier-and-jennifer-a-doudna/articleshow/78532571.cms\" pg=\"-india#Story_View-5-geturl\" title=\"Duo get Chemistry Nobel for genome editing\"><img alt=\"Duo get Chemistry Nobel for genome editing\" data-src=\"https://static.toiimg.com/thumb/imgsize-403493,msid-78533210,width-141,resizemode-4/78533210.jpg\" pg=\"-india#Story_View-5-geturl\" src=\"https://static.toiimg.com/photo/34824568.cms\"/><i class=\"iconvideo\"></i></a>,\n",
       " <a class=\"w_img\" href=\"https://timesofindia.indiatimes.com/etimes/moodsofprime\" pg=\"-top-headlines#Story_View-6-geturl\" title=\"Advt: What to watch? Something for every mood!\"><img alt=\"Advt: What to watch? Something for every mood!\" data-src=\"https://static.toiimg.com/thumb/imgsize-140787,msid-78490872,width-141,resizemode-4/78490872.jpg\" pg=\"-top-headlines#Story_View-6-geturl\" src=\"https://static.toiimg.com/photo/34824568.cms\"/></a>,\n",
       " <a class=\"w_img\" href=\"/india/no-person-or-group-of-persons-can-block-public-places-to-express-dissent-sc-on-shaheen-bagh-protests/articleshow/78528034.cms\" pg=\"-india#Story_View-7-geturl\" title=\"Can't block public places to express dissent: SC\"><img alt=\"Can't block public places to express dissent: SC\" data-src=\"https://static.toiimg.com/thumb/imgsize-846863,msid-78529727,width-141,resizemode-4/78529727.jpg\" pg=\"-india#Story_View-7-geturl\" src=\"https://static.toiimg.com/photo/34824568.cms\"/><i class=\"iconvideo\"></i></a>,\n",
       " <a class=\"w_img\" href=\"/india/how-tamil-commentary-is-getting-new-ipl-fans/articleshow/78513593.cms\" pg=\"-india#Story_View-8-geturl\" title=\"How Tamil commentary is getting new IPL fans\"><img alt=\"How Tamil commentary is getting new IPL fans\" data-src=\"https://static.toiimg.com/thumb/imgsize-221351,msid-78513759,width-141,resizemode-4/78513759.jpg\" pg=\"-india#Story_View-8-geturl\" src=\"https://static.toiimg.com/photo/34824568.cms\"/><i class=\"icon_prime\"></i></a>,\n",
       " <a class=\"w_img\" href=\"/india/coronavirus-live-updates-06-oct-2020/liveblog/78505098.cms\" pg=\"-india#Story_View-9-geturl\" title=\"Live: Govt to launch campaign against Covid\"><img alt=\"Live: Govt to launch campaign against Covid\" data-src=\"https://static.toiimg.com/thumb/imgsize-113647,msid-78505098,width-141,resizemode-4/78505098.jpg\" pg=\"-india#Story_View-9-geturl\" src=\"https://static.toiimg.com/photo/34824568.cms\"/></a>,\n",
       " <a class=\"w_img\" href=\"/city/delhi/ncw-summons-bjp-leader-ranjeet-srivastava-for-offensive-remarks-against-hathras-victim/articleshow/78533822.cms\" pg=\"-city/delhi#Story_View-10-geturl\" title=\"NCW summons BJP leader for ‘offensive remarks’\"><img alt=\"NCW summons BJP leader for ‘offensive remarks’\" data-src=\"https://static.toiimg.com/thumb/imgsize-412652,msid-78534086,width-141,resizemode-4/78534086.jpg\" pg=\"-city/delhi#Story_View-10-geturl\" src=\"https://static.toiimg.com/photo/34824568.cms\"/></a>,\n",
       " <a class=\"w_img\" href=\"/business/india-business/at-41-million-real-time-transactions-a-day-india-leads-the-world-report/articleshow/78534784.cms\" pg=\"-business/india-business#Story_View-11-geturl\" title=\"'India leads in real-time financial transactions'\"><img alt=\"'India leads in real-time financial transactions'\" data-src=\"https://static.toiimg.com/thumb/imgsize-404212,msid-78534763,width-141,resizemode-4/78534763.jpg\" pg=\"-business/india-business#Story_View-11-geturl\" src=\"https://static.toiimg.com/photo/34824568.cms\"/></a>,\n",
       " <a class=\"w_img\" href=\"https://www.gadgetsnow.com/slideshows/google-changes-logos-of-gmail-hangouts-gmeet-and-more-heres-how-they-look-now/photolist/78526348.cms\" pg=\"-TOI-Main-stories#Story_View-12-geturl\" rel=\"nofollow\" title=\"Google changes logos of GMail, Hangout\"><img alt=\"Google changes logos of GMail, Hangout\" data-src=\"https://static.toiimg.com/thumb/imgsize-384442,msid-78527236,width-141,resizemode-4/78527236.jpg\" pg=\"-TOI-Main-stories#Story_View-12-geturl\" src=\"https://static.toiimg.com/photo/34824568.cms\"/></a>,\n",
       " <a class=\"w_img\" href=\"https://www.gadgetsnow.com/tech-news/this-is-googles-new-plan-to-take-on-microsoft-office/articleshow/78533494.cms\" pg=\"-https/www-gadgetsnow-com/tech-news/this-is-googles-new-plan-to-take-on-microsoft-office/articleshow#Story_View-13-geturl\" rel=\"nofollow\" title=\"Google's new plan to take on Microsoft Office\"><img alt=\"Google's new plan to take on Microsoft Office\" data-src=\"https://static.toiimg.com/thumb/imgsize-98437,msid-78533551,width-141,resizemode-4/78533551.jpg\" pg=\"-https/www-gadgetsnow-com/tech-news/this-is-googles-new-plan-to-take-on-microsoft-office/articleshow#Story_View-13-geturl\" src=\"https://static.toiimg.com/photo/34824568.cms\"/></a>,\n",
       " <a class=\"w_img\" href=\"/city/kolkata/cabinet-approves-revised-cost-for-kolkata-east-west-metro-corridor-project/articleshow/78534249.cms\" pg=\"-city/kolkata#Story_View-14-geturl\" title=\"Cabinet approves revised cost of Kolkata metro\"><img alt=\"Cabinet approves revised cost of Kolkata metro\" data-src=\"https://static.toiimg.com/thumb/imgsize-28778,msid-78534336,width-141,resizemode-4/78534336.jpg\" pg=\"-city/kolkata#Story_View-14-geturl\" src=\"https://static.toiimg.com/photo/34824568.cms\"/></a>,\n",
       " <a class=\"w_img\" href=\"/city/noida/noida-airport-to-have-one-runway-and-90-per-cent-domestic-traffic-initially-zurich-airport-official/articleshow/78533214.cms\" pg=\"-city/noida#Story_View-15-geturl\" title=\"'Noida airport to have one runway'\"><img alt=\"'Noida airport to have one runway'\" data-src=\"https://static.toiimg.com/thumb/imgsize-590258,msid-78533273,width-141,resizemode-4/78533273.jpg\" pg=\"-city/noida#Story_View-15-geturl\" src=\"https://static.toiimg.com/photo/34824568.cms\"/></a>,\n",
       " <a class=\"w_img\" href=\"https://www.gadgetsnow.com/tech-news/some-businesses-are-under-assault-by-apple-says-facebook/articleshow/78526329.cms\" pg=\"-TOI-Main-stories#Story_View-16-geturl\" rel=\"nofollow\" title=\"Some businesses are under ‘assault’ by Apple: FB\"><img alt=\"Some businesses are under ‘assault’ by Apple: FB\" data-src=\"https://static.toiimg.com/thumb/imgsize-534930,msid-78526623,width-141,resizemode-4/78526623.jpg\" pg=\"-TOI-Main-stories#Story_View-16-geturl\" src=\"https://static.toiimg.com/photo/34824568.cms\"/></a>,\n",
       " <a class=\"w_img\" href=\"/auto/news/the-worlds-biggest-oil-trader-wants-to-buy-your-used-car/articleshow/78526879.cms\" pg=\"-auto/news#Story_View-17-geturl\" title=\"World’s biggest oil trader wants to buy used car\"><img alt=\"World’s biggest oil trader wants to buy used car\" data-src=\"https://static.toiimg.com/thumb/imgsize-262370,msid-78533823,width-141,resizemode-4/78533823.jpg\" pg=\"-auto/news#Story_View-17-geturl\" src=\"https://static.toiimg.com/photo/34824568.cms\"/><i class=\"iconvideo\"></i></a>,\n",
       " <a class=\"w_img\" href=\"/business/india-business/times-network-expands-its-global-footprint-launches-times-now-times-now-world-et-now-mirror-now-and-zoom-on-onehubtv/articleshow/77994407.cms\" pg=\"-business/india-business#Story_View-18-geturl\" title=\"Times Network expands its global footprint\"><img alt=\"Times Network expands its global footprint\" data-src=\"https://static.toiimg.com/thumb/imgsize-445866,msid-77994407,width-141,resizemode-4/77994407.jpg\" pg=\"-business/india-business#Story_View-18-geturl\" src=\"https://static.toiimg.com/photo/34824568.cms\"/></a>,\n",
       " <a class=\"w_img\" href=\"/sports/cricket/news/family-bid-farewell-to-australian-great-jones-with-lap-of-mcg/articleshow/78531680.cms\" pg=\"-sports/cricket/news#Story_View-19-geturl\" title=\"Family bid farewell to Dean Jones with lap of MCG\"><img alt=\"Family bid farewell to Dean Jones with lap of MCG\" data-src=\"https://static.toiimg.com/thumb/imgsize-59619,msid-78532458,width-141,resizemode-4/78532458.jpg\" pg=\"-sports/cricket/news#Story_View-19-geturl\" src=\"https://static.toiimg.com/photo/34824568.cms\"/></a>,\n",
       " <a class=\"w_img\" href=\"/sports/cricket/ipl/top-stories/ipl-2020-kkr-need-to-rejig-batting-order-as-they-take-on-csk/articleshow/78526518.cms\" pg=\"-sports/cricket/ipl/top-stories#Story_View-20-geturl\" title=\"IPL: KKR need to rejig batting order vs CSK\"><img alt=\"IPL: KKR need to rejig batting order vs CSK\" data-src=\"https://static.toiimg.com/thumb/imgsize-72680,msid-78532632,width-141,resizemode-4/78532632.jpg\" pg=\"-sports/cricket/ipl/top-stories#Story_View-20-geturl\" src=\"https://static.toiimg.com/photo/34824568.cms\"/><i class=\"iconvideo\"></i></a>]"
      ]
     },
     "execution_count": 205,
     "metadata": {},
     "output_type": "execute_result"
    }
   ],
   "source": [
    "s "
   ]
  },
  {
   "cell_type": "code",
   "execution_count": 198,
   "metadata": {},
   "outputs": [],
   "source": [
    "lst3 = []\n",
    "lst4 = []\n",
    "dic1 = {}\n",
    "dic2 = {}\n",
    "for i in s:\n",
    "    dic1[\"Title\"] = i[\"title\"]\n",
    "    dic1[\"link\"] = \"https://timesofindia.indiatimes.com\"+i[\"href\"]\n",
    "    dictionary_copy = dic1.copy()\n",
    "    lst3.append(dictionary_copy)\n",
    "    "
   ]
  },
  {
   "cell_type": "code",
   "execution_count": 206,
   "metadata": {},
   "outputs": [
    {
     "data": {
      "text/plain": [
       "[{'Title': 'Highlights of Rhea Chakraborty’s bail order',\n",
       "  'link': 'https://timesofindia.indiatimes.com/entertainment/hindi/bollywood/news/highlights-of-rhea-chakrabortys-bail-order/photostory/78534006.cms'},\n",
       " {'Title': 'Payal to withdraw statement against Richa',\n",
       "  'link': 'https://timesofindia.indiatimes.com/entertainment/hindi/bollywood/news/payal-ghosh-to-tender-apology-and-withdraw-statement-against-richa-chadha/articleshow/78533878.cms'},\n",
       " {'Title': 'Neeraj Kabi: Still fighting for remuneration',\n",
       "  'link': 'https://timesofindia.indiatimes.com/entertainment/hindi/bollywood/news/neeraj-kabi-exclusive-how-i-made-it/articleshow/78527260.cms'},\n",
       " {'Title': '9 conditions pronounced for Rhea by the HC',\n",
       "  'link': 'https://timesofindia.indiatimes.com/entertainment/hindi/bollywood/news/9-conditions-pronounced-for-rhea-chakraborty-by-the-high-court-while-granting-her-bail-in-drugs-case/articleshow/78532432.cms'},\n",
       " {'Title': 'Swara takes an indirect dig at Kangana',\n",
       "  'link': 'https://timesofindia.indiatimes.com/entertainment/hindi/bollywood/news/swara-bhasker-takes-an-indirect-dig-at-kangana-ranauts-padma-shri-statement-after-aiims-rules-out-murder-in-sushant-singh-rajputs-case/articleshow/78531976.cms'},\n",
       " {'Title': 'At 41 million real-time transactions a day, India leads the world: Report',\n",
       "  'link': 'https://timesofindia.indiatimes.com/business/india-business/at-41-million-real-time-transactions-a-day-india-leads-the-world-report/articleshow/78534784.cms'},\n",
       " {'Title': \"States' mkt borrowings jump 55% to Rs 3.75 lakh crore\",\n",
       "  'link': 'https://timesofindia.indiatimes.com/business/india-business/states-market-borrowings-jump-55-to-rs-3-75-lakh-crore-so-far-this-fiscal/articleshow/78534277.cms'},\n",
       " {'Title': 'Sensex rallies 304 points; Nifty ends above 11,700',\n",
       "  'link': 'https://timesofindia.indiatimes.com/business/india-business/sensex-rallies-304-points-nifty-ends-above-11700/articleshow/78532545.cms'},\n",
       " {'Title': 'Banks say interest waiver will add to costs, spark litigation',\n",
       "  'link': 'https://timesofindia.indiatimes.com/business/india-business/banks-say-governments-interest-waiver-will-add-to-costs-spark-litigation/articleshow/78530227.cms'},\n",
       " {'Title': \"H-1B visas only for 'specialised talent': White House\",\n",
       "  'link': 'https://timesofindia.indiatimes.com/business/international-business/h-1b-visas-should-be-reserved-only-for-specialised-talent-to-support-strong-economy-white-house/articleshow/78531537.cms'},\n",
       " {'Title': \"Watch Niti Taylor's Mehendi ceremony\",\n",
       "  'link': 'https://timesofindia.indiatimes.com/tv/news/hindi/new-bride-niti-taylor-shares-a-throwback-video-from-her-mehendi-ceremony-watch/articleshow/78534122.cms'},\n",
       " {'Title': 'Mukesh Khanna lashes out at Gajendra Chauhan',\n",
       "  'link': 'https://timesofindia.indiatimes.com/tv/news/hindi/mukesh-khanna-hits-out-at-yudhishtir-gajendra-chauhan-asks-how-can-you-compare-mahabharat-to-the-kapil-sharma-show/articleshow/78534253.cms'},\n",
       " {'Title': \"Was Rohanpreet Singh Shehnaz's suitor in MSK?\",\n",
       "  'link': 'https://timesofindia.indiatimes.com/tv/news/hindi/did-you-know-neha-kakars-rumoured-fiance-rohanpreet-singh-was-shehnaz-gills-suitor-in-mujhse-shaadi-karoge/articleshow/78532624.cms'},\n",
       " {'Title': 'BB14: Pavitra hits Nikki during immunity task',\n",
       "  'link': 'https://timesofindia.indiatimes.com/tv/news/hindi/bigg-boss-14-pavitra-punia-hits-nikki-tamboli-with-a-tray-after-she-ruins-her-game-during-immunity-task/articleshow/78532198.cms'},\n",
       " {'Title': 'Sapna Chaudhary blessed with a baby boy',\n",
       "  'link': 'https://timesofindia.indiatimes.com/tv/news/hindi/bigg-boss-11s-sapna-chaudhary-blessed-with-a-baby-boy-husband-veer-sahu-abuses-those-judging-his-wifes-character/articleshow/78530131.cms'},\n",
       " {'Title': 'KKR need to rejig batting order as they face CSK',\n",
       "  'link': 'https://timesofindia.indiatimes.com/sports/cricket/ipl/top-stories/ipl-2020-kkr-need-to-rejig-batting-order-as-they-take-on-csk/articleshow/78526518.cms'},\n",
       " {'Title': 'Kvitova back in Roland Garros semis after 8 years',\n",
       "  'link': 'https://timesofindia.indiatimes.com/sports/tennis/french-open/petra-kvitova-back-in-roland-garros-semi-finals-after-eight-years/articleshow/78534686.cms'},\n",
       " {'Title': \"Rahul shouldn't be wicketkeeping in the Indian team: Lara\",\n",
       "  'link': 'https://timesofindia.indiatimes.com/sports/cricket/ipl/top-stories/rahul-shouldnt-be-bothered-with-wicket-keeping-in-indian-team-feels-lara/articleshow/78532034.cms'},\n",
       " {'Title': 'Watch: Nitish saws off the top of his bat handles',\n",
       "  'link': 'https://timesofindia.indiatimes.com/sports/cricket/ipl/top-stories/watch-hathiyaar-taiyaar-nitish-rana-saws-off-the-top-of-his-bat-handles-ahead-of-csk-clash/articleshow/78534489.cms'},\n",
       " {'Title': \"IPL: Tendulkar hails Bumrah's 'exceptional' bowling\",\n",
       "  'link': 'https://timesofindia.indiatimes.com/sports/cricket/ipl/top-stories/ipl-2020-tendulkar-hails-bumrahs-exceptional-bowling-against-rajasthan-royals/articleshow/78533665.cms'},\n",
       " {'Title': 'Live: Rhea leaves Byculla Jail after bail in drugs case',\n",
       "  'link': 'https://timesofindia.indiatimes.com/entertainment/hindi/bollywood/news/sushant-singh-rajput-case-live-updates-rhea-chakraborty-bail-plea-bollywood-drug-probe/liveblog/78527319.cms'},\n",
       " {'Title': \"India, Japan set to work on 5G tech amid global snub to China's Huawei\",\n",
       "  'link': 'https://timesofindia.indiatimes.com/india/india-japan-finalise-pact-for-cooperation-in-5g-tech-ai-and-critical-information-infra/articleshow/78533793.cms'},\n",
       " {'Title': 'Where are we in the Covid-19 vaccine race?',\n",
       "  'link': 'https://timesofindia.indiatimes.com/home/science/where-are-we-in-the-covid-19-vaccine-race/articleshow/78533016.cms'},\n",
       " {'Title': \"Trump does 'surgical strike' on H-1B visas\",\n",
       "  'link': 'https://timesofindia.indiatimes.com/world/us/new-h-1b-rules-a-month-before-elections-trump-admin-does-a-surgical-strike-wage-parameters-hiked-and-visa-norms-tightened/articleshow/78530104.cms'},\n",
       " {'Title': 'Duo get Chemistry Nobel for genome editing',\n",
       "  'link': 'https://timesofindia.indiatimes.com/india/nobel-prize-in-chemistry-awarded-to-emmanuelle-charpentier-and-jennifer-a-doudna/articleshow/78532571.cms'},\n",
       " {'Title': 'Advt: What to watch? Something for every mood!',\n",
       "  'link': 'https://timesofindia.indiatimes.comhttps://timesofindia.indiatimes.com/etimes/moodsofprime'},\n",
       " {'Title': \"Can't block public places to express dissent: SC\",\n",
       "  'link': 'https://timesofindia.indiatimes.com/india/no-person-or-group-of-persons-can-block-public-places-to-express-dissent-sc-on-shaheen-bagh-protests/articleshow/78528034.cms'},\n",
       " {'Title': 'How Tamil commentary is getting new IPL fans',\n",
       "  'link': 'https://timesofindia.indiatimes.com/india/how-tamil-commentary-is-getting-new-ipl-fans/articleshow/78513593.cms'},\n",
       " {'Title': 'Live: Govt to launch campaign against Covid',\n",
       "  'link': 'https://timesofindia.indiatimes.com/india/coronavirus-live-updates-06-oct-2020/liveblog/78505098.cms'},\n",
       " {'Title': 'NCW summons BJP leader for ‘offensive remarks’',\n",
       "  'link': 'https://timesofindia.indiatimes.com/city/delhi/ncw-summons-bjp-leader-ranjeet-srivastava-for-offensive-remarks-against-hathras-victim/articleshow/78533822.cms'},\n",
       " {'Title': \"'India leads in real-time financial transactions'\",\n",
       "  'link': 'https://timesofindia.indiatimes.com/business/india-business/at-41-million-real-time-transactions-a-day-india-leads-the-world-report/articleshow/78534784.cms'},\n",
       " {'Title': 'Google changes logos of GMail, Hangout',\n",
       "  'link': 'https://timesofindia.indiatimes.comhttps://www.gadgetsnow.com/slideshows/google-changes-logos-of-gmail-hangouts-gmeet-and-more-heres-how-they-look-now/photolist/78526348.cms'},\n",
       " {'Title': \"Google's new plan to take on Microsoft Office\",\n",
       "  'link': 'https://timesofindia.indiatimes.comhttps://www.gadgetsnow.com/tech-news/this-is-googles-new-plan-to-take-on-microsoft-office/articleshow/78533494.cms'},\n",
       " {'Title': 'Cabinet approves revised cost of Kolkata metro',\n",
       "  'link': 'https://timesofindia.indiatimes.com/city/kolkata/cabinet-approves-revised-cost-for-kolkata-east-west-metro-corridor-project/articleshow/78534249.cms'},\n",
       " {'Title': \"'Noida airport to have one runway'\",\n",
       "  'link': 'https://timesofindia.indiatimes.com/city/noida/noida-airport-to-have-one-runway-and-90-per-cent-domestic-traffic-initially-zurich-airport-official/articleshow/78533214.cms'},\n",
       " {'Title': 'Some businesses are under ‘assault’ by Apple: FB',\n",
       "  'link': 'https://timesofindia.indiatimes.comhttps://www.gadgetsnow.com/tech-news/some-businesses-are-under-assault-by-apple-says-facebook/articleshow/78526329.cms'},\n",
       " {'Title': 'World’s biggest oil trader wants to buy used car',\n",
       "  'link': 'https://timesofindia.indiatimes.com/auto/news/the-worlds-biggest-oil-trader-wants-to-buy-your-used-car/articleshow/78526879.cms'},\n",
       " {'Title': 'Times Network expands its global footprint',\n",
       "  'link': 'https://timesofindia.indiatimes.com/business/india-business/times-network-expands-its-global-footprint-launches-times-now-times-now-world-et-now-mirror-now-and-zoom-on-onehubtv/articleshow/77994407.cms'},\n",
       " {'Title': 'Family bid farewell to Dean Jones with lap of MCG',\n",
       "  'link': 'https://timesofindia.indiatimes.com/sports/cricket/news/family-bid-farewell-to-australian-great-jones-with-lap-of-mcg/articleshow/78531680.cms'},\n",
       " {'Title': 'IPL: KKR need to rejig batting order vs CSK',\n",
       "  'link': 'https://timesofindia.indiatimes.com/sports/cricket/ipl/top-stories/ipl-2020-kkr-need-to-rejig-batting-order-as-they-take-on-csk/articleshow/78526518.cms'}]"
      ]
     },
     "execution_count": 206,
     "metadata": {},
     "output_type": "execute_result"
    }
   ],
   "source": [
    "lst3"
   ]
  },
  {
   "cell_type": "code",
   "execution_count": null,
   "metadata": {},
   "outputs": [],
   "source": []
  }
 ],
 "metadata": {
  "kernelspec": {
   "display_name": "Python 3",
   "language": "python",
   "name": "python3"
  },
  "language_info": {
   "codemirror_mode": {
    "name": "ipython",
    "version": 3
   },
   "file_extension": ".py",
   "mimetype": "text/x-python",
   "name": "python",
   "nbconvert_exporter": "python",
   "pygments_lexer": "ipython3",
   "version": "3.8.5"
  }
 },
 "nbformat": 4,
 "nbformat_minor": 4
}
